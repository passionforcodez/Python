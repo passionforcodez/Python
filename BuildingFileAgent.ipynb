{
  "nbformat": 4,
  "nbformat_minor": 0,
  "metadata": {
    "colab": {
      "provenance": [],
      "authorship_tag": "ABX9TyMdi4Oes8INS5tocmZfeE5/",
      "include_colab_link": true
    },
    "kernelspec": {
      "name": "python3",
      "display_name": "Python 3"
    },
    "language_info": {
      "name": "python"
    }
  },
  "cells": [
    {
      "cell_type": "markdown",
      "metadata": {
        "id": "view-in-github",
        "colab_type": "text"
      },
      "source": [
        "<a href=\"https://colab.research.google.com/github/passionforcodez/Python/blob/main/BuildingFileAgent.ipynb\" target=\"_parent\"><img src=\"https://colab.research.google.com/assets/colab-badge.svg\" alt=\"Open In Colab\"/></a>"
      ]
    },
    {
      "cell_type": "code",
      "execution_count": null,
      "metadata": {
        "id": "QD-mqcptZvH8"
      },
      "outputs": [],
      "source": [
        "import os\n",
        "import pandas as pd\n",
        "from IPython.display import Markdown, HTML, display"
      ]
    },
    {
      "cell_type": "code",
      "source": [
        "%pip install -q -U google-genai"
      ],
      "metadata": {
        "id": "o918sQFakjDQ"
      },
      "execution_count": null,
      "outputs": []
    },
    {
      "cell_type": "code",
      "source": [
        "import os\n",
        "from google.colab import userdata # Colab utility to access secrets\n",
        "\n",
        "# --- 1. Load API Key Securely ---\n",
        "# This line loads the key named GEMINI_API_KEY from your Colab secrets\n",
        "api_key = userdata.get('GEMINI_API_KEY')"
      ],
      "metadata": {
        "id": "9BK03wXMlxAj"
      },
      "execution_count": null,
      "outputs": []
    },
    {
      "cell_type": "code",
      "source": [
        "import os\n",
        "from google import genai\n",
        "\n",
        "# Ensure your GEMINI_API_KEY is set in os.environ before this cell runs!\n",
        "\n",
        "# 1. Initialize the client (assuming GEMINI_API_KEY is set in environment)\n",
        "client = genai.Client()\n",
        "\n",
        "# 2. Define the translation prompt\n",
        "original_sentence = \"I like red cars and blue houses, but my dog is yellow.\"\n",
        "prompt = (\n",
        "    \"Translate the following English sentence to both Hindi and Marathi. \"\n",
        "    \"Format your response clearly, labeling each translation:\\n\\n\"\n",
        "    f\"English: {original_sentence}\"\n",
        ")\n",
        "\n",
        "# 3. Call the API using the correct path: client.models.generate_content\n",
        "response = client.models.generate_content(\n",
        "    model=\"gemini-2.5-flash\",\n",
        "    contents=prompt\n",
        ")\n",
        "\n",
        "# 4. Print the result\n",
        "print(response.text)"
      ],
      "metadata": {
        "colab": {
          "base_uri": "https://localhost:8080/"
        },
        "id": "JnnPdN-Klduj",
        "outputId": "bd59a6fd-df8b-4a7a-bf45-fdf65e7c34a4"
      },
      "execution_count": null,
      "outputs": [
        {
          "output_type": "stream",
          "name": "stdout",
          "text": [
            "Here are the translations of your English sentence into Hindi and Marathi:\n",
            "\n",
            "**English:** I like red cars and blue houses, but my dog is yellow.\n",
            "\n",
            "---\n",
            "\n",
            "**Hindi Translation:**\n",
            "\n",
            "मुझे लाल गाड़ियाँ और नीले घर पसंद हैं, लेकिन मेरा कुत्ता पीला है।\n",
            "*(Mujhe laal gaadiyan aur neele ghar pasand hain, lekin mera kutta peela hai.)*\n",
            "\n",
            "---\n",
            "\n",
            "**Marathi Translation:**\n",
            "\n",
            "मला लाल गाड्या आणि निळी घरे आवडतात, पण माझा कुत्रा पिवळा आहे.\n",
            "*(Mala laal gaadya aani nili ghare aavadtat, pan maajha kutra pivla aahe.)*\n"
          ]
        }
      ]
    },
    {
      "cell_type": "code",
      "source": [
        " #Lesson 2: Interacting with a CSV Data"
      ],
      "metadata": {
        "id": "v4gKqbWPlv4h"
      },
      "execution_count": null,
      "outputs": []
    },
    {
      "cell_type": "code",
      "source": [
        "# 1. Load the CSV Data using the specific file path\n",
        "file_path = 'sample_data/sales_data.csv'\n",
        "df = pd.read_csv(file_path)\n",
        "\n",
        "print(\"File loaded successfully!\")"
      ],
      "metadata": {
        "colab": {
          "base_uri": "https://localhost:8080/"
        },
        "id": "O_C33Hz8odRM",
        "outputId": "a61edd81-5e79-412d-a9b5-66cde2263fe8"
      },
      "execution_count": null,
      "outputs": [
        {
          "output_type": "stream",
          "name": "stdout",
          "text": [
            "File loaded successfully!\n"
          ]
        }
      ]
    },
    {
      "cell_type": "code",
      "source": [
        "df = pd.read_csv(file_path) .fillna(value = 0)"
      ],
      "metadata": {
        "id": "HoBLv03wuZb4"
      },
      "execution_count": null,
      "outputs": []
    },
    {
      "cell_type": "code",
      "source": [
        "# using langchain\n",
        "# agent = create_pandas_dataframe_agent(llm=model,df=df,verbose=True)"
      ],
      "metadata": {
        "id": "bGlkUa9YudbJ"
      },
      "execution_count": null,
      "outputs": []
    },
    {
      "cell_type": "code",
      "source": [
        "# Assuming your df is loaded in a previous cell\n",
        "print(df.head())\n",
        "print(df.columns)"
      ],
      "metadata": {
        "colab": {
          "base_uri": "https://localhost:8080/"
        },
        "id": "eOes-p2VwEY3",
        "outputId": "473232a2-4bad-430f-d5e0-d9ad6df1cfc9"
      },
      "execution_count": null,
      "outputs": [
        {
          "output_type": "stream",
          "name": "stdout",
          "text": [
            "   order_id customer_id  customer_name    product_name         category  \\\n",
            "0      1001       C2501     John Smith          Laptop      Electronics   \n",
            "1      1002       C2502   Emma Johnson      Desk Chair        Furniture   \n",
            "2      1003       C2503  Michael Brown    Coffee Maker       Appliances   \n",
            "3      1004       C2501     John Smith  Wireless Mouse      Electronics   \n",
            "4      1005       C2504    Sarah Davis    Notebook Set  Office Supplies   \n",
            "\n",
            "   quantity  unit_price  total_price  order_date region      status  \n",
            "0         1      899.99       899.99  2024-01-15  North   Delivered  \n",
            "1         2      149.99       299.98  2024-01-16  South   Delivered  \n",
            "2         1       79.99        79.99  2024-01-17   East     Shipped  \n",
            "3         3       24.99        74.97  2024-01-18  North   Delivered  \n",
            "4         5       12.99        64.95  2024-01-19   West  Processing  \n",
            "Index(['order_id', 'customer_id', 'customer_name', 'product_name', 'category',\n",
            "       'quantity', 'unit_price', 'total_price', 'order_date', 'region',\n",
            "       'status'],\n",
            "      dtype='object')\n"
          ]
        }
      ]
    },
    {
      "cell_type": "code",
      "source": [
        "import pandas as pd\n",
        "from google import genai\n",
        "from google.genai import types\n",
        "import os\n",
        "import json\n",
        "\n",
        "# Assume df and execute_dataframe_code are correctly defined in your Colab session\n",
        "# You must run the code block that defines df and the function first!\n",
        "\n",
        "# --- 3. Initialize Client and Agent Logic (The critical part) ---\n",
        "client = genai.Client()\n",
        "\n",
        "# --- REVISED SYSTEM INSTRUCTION (Kept strong) ---\n",
        "system_instruction = (\n",
        "    \"You are an expert data analyst. For ALL data analysis questions, \"\n",
        "    \"you MUST use the 'execute_dataframe_code' tool. DO NOT answer questions \"\n",
        "    \"with text until you receive the output from the tool.\"\n",
        "    \"The data is in a pandas DataFrame named 'df'. The relevant column names are: \"\n",
        "    \"The price of a single item is in the column 'unit_price'. \"\n",
        "    \"The revenue/sales amount is in the column 'total_price'. \"\n",
        "    \"Write a short, complete Python script that calculates ALL requested metrics. \"\n",
        "    \"The final calculated result MUST be assigned to a variable named 'result' \"\n",
        "    \"and should be a single dictionary or string containing all values.\"\n",
        ")\n",
        "\n",
        "user_question = \"What is the total revenue and the median price of all products?\"\n",
        "\n",
        "# First call: Ask the model to generate the code\n",
        "response = client.models.generate_content(\n",
        "    model='gemini-2.5-flash',\n",
        "    contents=user_question,\n",
        "    config=types.GenerateContentConfig(\n",
        "        tools=[execute_dataframe_code],\n",
        "        system_instruction=system_instruction,\n",
        "        # 🎯 THE CRUCIAL ADDITION TO FORCE TOOL USE:\n",
        "        tool_config=types.ToolConfig(\n",
        "            function_calling_config=types.FunctionCallingConfig(\n",
        "                mode=\"ANY\"\n",
        "            )\n",
        "        )\n",
        "    )\n",
        ")\n",
        "\n",
        "# Check if the model generated a tool call\n",
        "if response.function_calls:\n",
        "    function_call = response.function_calls[0]\n",
        "\n",
        "    # Execute the code generated by the model\n",
        "    tool_output = execute_dataframe_code(function_call.args['code'])\n",
        "    print(f\"\\n🧠 Model Generated Code:\\n{function_call.args['code']}\\n\")\n",
        "    print(f\"🛠️ Tool Output:\\n{tool_output}\\n\")\n",
        "\n",
        "    # Second call: Send the output back to the model for a final, natural language response\n",
        "    final_response = client.models.generate_content(\n",
        "      model='gemini-2.5-flash',\n",
        "      contents=[\n",
        "        # 1. User Turn: (Unchanged, uses simple text dictionary)\n",
        "        {\"role\": \"user\", \"parts\": [{\"text\": user_question}]},\n",
        "\n",
        "        # 2. Model Turn: **CRITICAL FIX HERE** - Explicitly format the function call dictionary\n",
        "        {\n",
        "            \"role\": \"model\",\n",
        "            \"parts\": [\n",
        "                {\n",
        "                    \"functionCall\": {\n",
        "                        \"name\": function_call.name,\n",
        "                        \"args\": function_call.args\n",
        "                    }\n",
        "                }\n",
        "            ]\n",
        "        },\n",
        "\n",
        "        # 3. Tool Turn: (The function response structure is correct)\n",
        "        {\n",
        "            \"role\": \"tool\",\n",
        "            \"parts\": [\n",
        "                {\n",
        "                    \"functionResponse\": {\n",
        "                        \"name\": \"execute_dataframe_code\",\n",
        "                        \"response\": {\"result\": tool_output}\n",
        "                    }\n",
        "                }\n",
        "              ]\n",
        "          }\n",
        "      ]\n",
        "    )\n",
        "    print(f\"✅ Agent's Final Answer: {final_response.text}\")\n",
        "\n",
        "else:\n",
        "    print(f\"\\n❌ Tool Use Failed: Agent returned direct text response (Model skipped tool use).\")\n",
        "    print(f\"🤖 Direct Response: {response.text}\")"
      ],
      "metadata": {
        "colab": {
          "base_uri": "https://localhost:8080/"
        },
        "id": "gdCMpDH6xWz6",
        "outputId": "4699f79b-5a29-4550-f046-083b821aaa5f"
      },
      "execution_count": null,
      "outputs": [
        {
          "output_type": "stream",
          "name": "stdout",
          "text": [
            "\n",
            "🧠 Model Generated Code:\n",
            "total_revenue = df[\"total_price\"].sum()\n",
            "median_price = df[\"unit_price\"].median()\n",
            "result = {\"total_revenue\": total_revenue, \"median_price\": median_price}\n",
            "\n",
            "🛠️ Tool Output:\n",
            "{'total_revenue': np.float64(3280.54), 'median_price': 59.989999999999995}\n",
            "\n",
            "✅ Agent's Final Answer: The total revenue of all products is $3280.54 and the median price is $59.99.\n"
          ]
        }
      ]
    },
    {
      "cell_type": "code",
      "source": [
        "import pandas as pd\n",
        "from google import genai\n",
        "from google.genai import types\n",
        "import os\n",
        "import json\n",
        "\n",
        "# Assume df and execute_dataframe_code are correctly defined in your Colab session\n",
        "# You must run the code block that defines df and the function first!\n",
        "\n",
        "# --- 3. Initialize Client and Agent Logic (The critical part) ---\n",
        "client = genai.Client()\n",
        "\n",
        "# --- REVISED SYSTEM INSTRUCTION (Kept strong) ---\n",
        "system_instruction = (\n",
        "    \"You are an expert data analyst. For ALL data analysis questions, \"\n",
        "    \"you MUST use the 'execute_dataframe_code' tool. DO NOT answer questions \"\n",
        "    \"with text until you receive the output from the tool.\"\n",
        "    \"The data is in a pandas DataFrame named 'df'. The relevant column names are: \"\n",
        "    \"The price of a single item is in the column 'unit_price'. \"\n",
        "    \"The revenue/sales amount is in the column 'total_price'. \"\n",
        "    \"Write a short, complete Python script that calculates ALL requested metrics. \"\n",
        "    \"The final calculated result MUST be assigned to a variable named 'result' \"\n",
        "    \"and should be a single dictionary or string containing all values.\"\n",
        ")\n",
        "\n",
        "user_question = \"List the total revenue broken down by category - Electronics.\"\n",
        "\n",
        "# First call: Ask the model to generate the code\n",
        "response = client.models.generate_content(\n",
        "    model='gemini-2.5-flash',\n",
        "    contents=user_question,\n",
        "    config=types.GenerateContentConfig(\n",
        "        tools=[execute_dataframe_code],\n",
        "        system_instruction=system_instruction,\n",
        "        # 🎯 THE CRUCIAL ADDITION TO FORCE TOOL USE:\n",
        "        tool_config=types.ToolConfig(\n",
        "            function_calling_config=types.FunctionCallingConfig(\n",
        "                mode=\"ANY\"\n",
        "            )\n",
        "        )\n",
        "    )\n",
        ")\n",
        "\n",
        "# Check if the model generated a tool call\n",
        "if response.function_calls:\n",
        "    function_call = response.function_calls[0]\n",
        "\n",
        "    # Execute the code generated by the model\n",
        "    tool_output = execute_dataframe_code(function_call.args['code'])\n",
        "    print(f\"\\n🧠 Model Generated Code:\\n{function_call.args['code']}\\n\")\n",
        "    print(f\"🛠️ Tool Output:\\n{tool_output}\\n\")\n",
        "\n",
        "    # Second call: Send the output back to the model for a final, natural language response\n",
        "    final_response = client.models.generate_content(\n",
        "      model='gemini-2.5-flash',\n",
        "      contents=[\n",
        "        # 1. User Turn: (Unchanged, uses simple text dictionary)\n",
        "        {\"role\": \"user\", \"parts\": [{\"text\": user_question}]},\n",
        "\n",
        "        # 2. Model Turn: **CRITICAL FIX HERE** - Explicitly format the function call dictionary\n",
        "        {\n",
        "            \"role\": \"model\",\n",
        "            \"parts\": [\n",
        "                {\n",
        "                    \"functionCall\": {\n",
        "                        \"name\": function_call.name,\n",
        "                        \"args\": function_call.args\n",
        "                    }\n",
        "                }\n",
        "            ]\n",
        "        },\n",
        "\n",
        "        # 3. Tool Turn: (The function response structure is correct)\n",
        "        {\n",
        "            \"role\": \"tool\",\n",
        "            \"parts\": [\n",
        "                {\n",
        "                    \"functionResponse\": {\n",
        "                        \"name\": \"execute_dataframe_code\",\n",
        "                        \"response\": {\"result\": tool_output}\n",
        "                    }\n",
        "                }\n",
        "              ]\n",
        "          }\n",
        "      ]\n",
        "    )\n",
        "    print(f\"✅ Agent's Final Answer: {final_response.text}\")\n",
        "\n",
        "else:\n",
        "    print(f\"\\n❌ Tool Use Failed: Agent returned direct text response (Model skipped tool use).\")\n",
        "    print(f\"🤖 Direct Response: {response.text}\")"
      ],
      "metadata": {
        "colab": {
          "base_uri": "https://localhost:8080/"
        },
        "id": "V8SLjblS1XCQ",
        "outputId": "fd61b2eb-cac5-47c7-857e-8efb7e6865dc"
      },
      "execution_count": null,
      "outputs": [
        {
          "output_type": "stream",
          "name": "stdout",
          "text": [
            "\n",
            "🧠 Model Generated Code:\n",
            "result = {\"total_revenue_electronics\": df[df[\"category\"] == \"Electronics\"][\"total_price\"].sum()}\n",
            "\n",
            "🛠️ Tool Output:\n",
            "{'total_revenue_electronics': np.float64(1814.8600000000001)}\n",
            "\n",
            "✅ Agent's Final Answer: The total revenue for the Electronics category is $1814.86.\n"
          ]
        }
      ]
    },
    {
      "cell_type": "code",
      "source": [
        "# integrating langChain with Gemini for dataframe automates."
      ],
      "metadata": {
        "id": "_k3NlpJW4DTM"
      },
      "execution_count": null,
      "outputs": []
    },
    {
      "cell_type": "code",
      "source": [
        "%pip install -U langchain langchain-google-genai pandas"
      ],
      "metadata": {
        "colab": {
          "base_uri": "https://localhost:8080/"
        },
        "id": "J6GsmnnJ4Kxr",
        "outputId": "fcf54ec2-1b71-4f4c-fe61-1fb63435f8e6"
      },
      "execution_count": null,
      "outputs": [
        {
          "output_type": "stream",
          "name": "stdout",
          "text": [
            "Requirement already satisfied: langchain in /usr/local/lib/python3.12/dist-packages (0.3.27)\n",
            "Requirement already satisfied: langchain-google-genai in /usr/local/lib/python3.12/dist-packages (2.1.12)\n",
            "Requirement already satisfied: pandas in /usr/local/lib/python3.12/dist-packages (2.3.3)\n",
            "Requirement already satisfied: langchain-core<1.0.0,>=0.3.72 in /usr/local/lib/python3.12/dist-packages (from langchain) (0.3.77)\n",
            "Requirement already satisfied: langchain-text-splitters<1.0.0,>=0.3.9 in /usr/local/lib/python3.12/dist-packages (from langchain) (0.3.11)\n",
            "Requirement already satisfied: langsmith>=0.1.17 in /usr/local/lib/python3.12/dist-packages (from langchain) (0.4.31)\n",
            "Requirement already satisfied: pydantic<3.0.0,>=2.7.4 in /usr/local/lib/python3.12/dist-packages (from langchain) (2.11.9)\n",
            "Requirement already satisfied: SQLAlchemy<3,>=1.4 in /usr/local/lib/python3.12/dist-packages (from langchain) (2.0.43)\n",
            "Requirement already satisfied: requests<3,>=2 in /usr/local/lib/python3.12/dist-packages (from langchain) (2.32.4)\n",
            "Requirement already satisfied: PyYAML>=5.3 in /usr/local/lib/python3.12/dist-packages (from langchain) (6.0.3)\n",
            "Requirement already satisfied: google-ai-generativelanguage<1,>=0.7 in /usr/local/lib/python3.12/dist-packages (from langchain-google-genai) (0.7.0)\n",
            "Requirement already satisfied: filetype<2,>=1.2 in /usr/local/lib/python3.12/dist-packages (from langchain-google-genai) (1.2.0)\n",
            "Requirement already satisfied: numpy>=1.26.0 in /usr/local/lib/python3.12/dist-packages (from pandas) (2.0.2)\n",
            "Requirement already satisfied: python-dateutil>=2.8.2 in /usr/local/lib/python3.12/dist-packages (from pandas) (2.9.0.post0)\n",
            "Requirement already satisfied: pytz>=2020.1 in /usr/local/lib/python3.12/dist-packages (from pandas) (2025.2)\n",
            "Requirement already satisfied: tzdata>=2022.7 in /usr/local/lib/python3.12/dist-packages (from pandas) (2025.2)\n",
            "Requirement already satisfied: google-api-core!=2.0.*,!=2.1.*,!=2.10.*,!=2.2.*,!=2.3.*,!=2.4.*,!=2.5.*,!=2.6.*,!=2.7.*,!=2.8.*,!=2.9.*,<3.0.0,>=1.34.1 in /usr/local/lib/python3.12/dist-packages (from google-api-core[grpc]!=2.0.*,!=2.1.*,!=2.10.*,!=2.2.*,!=2.3.*,!=2.4.*,!=2.5.*,!=2.6.*,!=2.7.*,!=2.8.*,!=2.9.*,<3.0.0,>=1.34.1->google-ai-generativelanguage<1,>=0.7->langchain-google-genai) (2.25.1)\n",
            "Requirement already satisfied: google-auth!=2.24.0,!=2.25.0,<3.0.0,>=2.14.1 in /usr/local/lib/python3.12/dist-packages (from google-ai-generativelanguage<1,>=0.7->langchain-google-genai) (2.38.0)\n",
            "Requirement already satisfied: proto-plus<2.0.0,>=1.22.3 in /usr/local/lib/python3.12/dist-packages (from google-ai-generativelanguage<1,>=0.7->langchain-google-genai) (1.26.1)\n",
            "Requirement already satisfied: protobuf!=4.21.0,!=4.21.1,!=4.21.2,!=4.21.3,!=4.21.4,!=4.21.5,<7.0.0,>=3.20.2 in /usr/local/lib/python3.12/dist-packages (from google-ai-generativelanguage<1,>=0.7->langchain-google-genai) (5.29.5)\n",
            "Requirement already satisfied: tenacity!=8.4.0,<10.0.0,>=8.1.0 in /usr/local/lib/python3.12/dist-packages (from langchain-core<1.0.0,>=0.3.72->langchain) (8.5.0)\n",
            "Requirement already satisfied: jsonpatch<2.0.0,>=1.33.0 in /usr/local/lib/python3.12/dist-packages (from langchain-core<1.0.0,>=0.3.72->langchain) (1.33)\n",
            "Requirement already satisfied: typing-extensions<5.0.0,>=4.7.0 in /usr/local/lib/python3.12/dist-packages (from langchain-core<1.0.0,>=0.3.72->langchain) (4.15.0)\n",
            "Requirement already satisfied: packaging<26.0.0,>=23.2.0 in /usr/local/lib/python3.12/dist-packages (from langchain-core<1.0.0,>=0.3.72->langchain) (25.0)\n",
            "Requirement already satisfied: httpx<1,>=0.23.0 in /usr/local/lib/python3.12/dist-packages (from langsmith>=0.1.17->langchain) (0.28.1)\n",
            "Requirement already satisfied: orjson>=3.9.14 in /usr/local/lib/python3.12/dist-packages (from langsmith>=0.1.17->langchain) (3.11.3)\n",
            "Requirement already satisfied: requests-toolbelt>=1.0.0 in /usr/local/lib/python3.12/dist-packages (from langsmith>=0.1.17->langchain) (1.0.0)\n",
            "Requirement already satisfied: zstandard>=0.23.0 in /usr/local/lib/python3.12/dist-packages (from langsmith>=0.1.17->langchain) (0.25.0)\n",
            "Requirement already satisfied: annotated-types>=0.6.0 in /usr/local/lib/python3.12/dist-packages (from pydantic<3.0.0,>=2.7.4->langchain) (0.7.0)\n",
            "Requirement already satisfied: pydantic-core==2.33.2 in /usr/local/lib/python3.12/dist-packages (from pydantic<3.0.0,>=2.7.4->langchain) (2.33.2)\n",
            "Requirement already satisfied: typing-inspection>=0.4.0 in /usr/local/lib/python3.12/dist-packages (from pydantic<3.0.0,>=2.7.4->langchain) (0.4.2)\n",
            "Requirement already satisfied: six>=1.5 in /usr/local/lib/python3.12/dist-packages (from python-dateutil>=2.8.2->pandas) (1.17.0)\n",
            "Requirement already satisfied: charset_normalizer<4,>=2 in /usr/local/lib/python3.12/dist-packages (from requests<3,>=2->langchain) (3.4.3)\n",
            "Requirement already satisfied: idna<4,>=2.5 in /usr/local/lib/python3.12/dist-packages (from requests<3,>=2->langchain) (3.10)\n",
            "Requirement already satisfied: urllib3<3,>=1.21.1 in /usr/local/lib/python3.12/dist-packages (from requests<3,>=2->langchain) (2.5.0)\n",
            "Requirement already satisfied: certifi>=2017.4.17 in /usr/local/lib/python3.12/dist-packages (from requests<3,>=2->langchain) (2025.8.3)\n",
            "Requirement already satisfied: greenlet>=1 in /usr/local/lib/python3.12/dist-packages (from SQLAlchemy<3,>=1.4->langchain) (3.2.4)\n",
            "Requirement already satisfied: googleapis-common-protos<2.0.0,>=1.56.2 in /usr/local/lib/python3.12/dist-packages (from google-api-core!=2.0.*,!=2.1.*,!=2.10.*,!=2.2.*,!=2.3.*,!=2.4.*,!=2.5.*,!=2.6.*,!=2.7.*,!=2.8.*,!=2.9.*,<3.0.0,>=1.34.1->google-api-core[grpc]!=2.0.*,!=2.1.*,!=2.10.*,!=2.2.*,!=2.3.*,!=2.4.*,!=2.5.*,!=2.6.*,!=2.7.*,!=2.8.*,!=2.9.*,<3.0.0,>=1.34.1->google-ai-generativelanguage<1,>=0.7->langchain-google-genai) (1.70.0)\n",
            "Requirement already satisfied: grpcio<2.0.0,>=1.33.2 in /usr/local/lib/python3.12/dist-packages (from google-api-core[grpc]!=2.0.*,!=2.1.*,!=2.10.*,!=2.2.*,!=2.3.*,!=2.4.*,!=2.5.*,!=2.6.*,!=2.7.*,!=2.8.*,!=2.9.*,<3.0.0,>=1.34.1->google-ai-generativelanguage<1,>=0.7->langchain-google-genai) (1.75.1)\n",
            "Requirement already satisfied: grpcio-status<2.0.0,>=1.33.2 in /usr/local/lib/python3.12/dist-packages (from google-api-core[grpc]!=2.0.*,!=2.1.*,!=2.10.*,!=2.2.*,!=2.3.*,!=2.4.*,!=2.5.*,!=2.6.*,!=2.7.*,!=2.8.*,!=2.9.*,<3.0.0,>=1.34.1->google-ai-generativelanguage<1,>=0.7->langchain-google-genai) (1.71.2)\n",
            "Requirement already satisfied: cachetools<6.0,>=2.0.0 in /usr/local/lib/python3.12/dist-packages (from google-auth!=2.24.0,!=2.25.0,<3.0.0,>=2.14.1->google-ai-generativelanguage<1,>=0.7->langchain-google-genai) (5.5.2)\n",
            "Requirement already satisfied: pyasn1-modules>=0.2.1 in /usr/local/lib/python3.12/dist-packages (from google-auth!=2.24.0,!=2.25.0,<3.0.0,>=2.14.1->google-ai-generativelanguage<1,>=0.7->langchain-google-genai) (0.4.2)\n",
            "Requirement already satisfied: rsa<5,>=3.1.4 in /usr/local/lib/python3.12/dist-packages (from google-auth!=2.24.0,!=2.25.0,<3.0.0,>=2.14.1->google-ai-generativelanguage<1,>=0.7->langchain-google-genai) (4.9.1)\n",
            "Requirement already satisfied: anyio in /usr/local/lib/python3.12/dist-packages (from httpx<1,>=0.23.0->langsmith>=0.1.17->langchain) (4.11.0)\n",
            "Requirement already satisfied: httpcore==1.* in /usr/local/lib/python3.12/dist-packages (from httpx<1,>=0.23.0->langsmith>=0.1.17->langchain) (1.0.9)\n",
            "Requirement already satisfied: h11>=0.16 in /usr/local/lib/python3.12/dist-packages (from httpcore==1.*->httpx<1,>=0.23.0->langsmith>=0.1.17->langchain) (0.16.0)\n",
            "Requirement already satisfied: jsonpointer>=1.9 in /usr/local/lib/python3.12/dist-packages (from jsonpatch<2.0.0,>=1.33.0->langchain-core<1.0.0,>=0.3.72->langchain) (3.0.0)\n",
            "Requirement already satisfied: pyasn1<0.7.0,>=0.6.1 in /usr/local/lib/python3.12/dist-packages (from pyasn1-modules>=0.2.1->google-auth!=2.24.0,!=2.25.0,<3.0.0,>=2.14.1->google-ai-generativelanguage<1,>=0.7->langchain-google-genai) (0.6.1)\n",
            "Requirement already satisfied: sniffio>=1.1 in /usr/local/lib/python3.12/dist-packages (from anyio->httpx<1,>=0.23.0->langsmith>=0.1.17->langchain) (1.3.1)\n"
          ]
        }
      ]
    },
    {
      "cell_type": "code",
      "source": [
        "%pip install langchain-experimental"
      ],
      "metadata": {
        "colab": {
          "base_uri": "https://localhost:8080/"
        },
        "id": "Mc_L7TBI5Ize",
        "outputId": "54f66149-85d1-4ede-d50a-ec5abc76be46"
      },
      "execution_count": null,
      "outputs": [
        {
          "output_type": "stream",
          "name": "stdout",
          "text": [
            "Requirement already satisfied: langchain-experimental in /usr/local/lib/python3.12/dist-packages (0.3.4)\n",
            "Requirement already satisfied: langchain-community<0.4.0,>=0.3.0 in /usr/local/lib/python3.12/dist-packages (from langchain-experimental) (0.3.30)\n",
            "Requirement already satisfied: langchain-core<0.4.0,>=0.3.28 in /usr/local/lib/python3.12/dist-packages (from langchain-experimental) (0.3.77)\n",
            "Requirement already satisfied: langchain<2.0.0,>=0.3.27 in /usr/local/lib/python3.12/dist-packages (from langchain-community<0.4.0,>=0.3.0->langchain-experimental) (0.3.27)\n",
            "Requirement already satisfied: SQLAlchemy<3.0.0,>=1.4.0 in /usr/local/lib/python3.12/dist-packages (from langchain-community<0.4.0,>=0.3.0->langchain-experimental) (2.0.43)\n",
            "Requirement already satisfied: requests<3.0.0,>=2.32.5 in /usr/local/lib/python3.12/dist-packages (from langchain-community<0.4.0,>=0.3.0->langchain-experimental) (2.32.5)\n",
            "Requirement already satisfied: PyYAML<7.0.0,>=5.3.0 in /usr/local/lib/python3.12/dist-packages (from langchain-community<0.4.0,>=0.3.0->langchain-experimental) (6.0.3)\n",
            "Requirement already satisfied: aiohttp<4.0.0,>=3.8.3 in /usr/local/lib/python3.12/dist-packages (from langchain-community<0.4.0,>=0.3.0->langchain-experimental) (3.12.15)\n",
            "Requirement already satisfied: tenacity!=8.4.0,<10.0.0,>=8.1.0 in /usr/local/lib/python3.12/dist-packages (from langchain-community<0.4.0,>=0.3.0->langchain-experimental) (8.5.0)\n",
            "Requirement already satisfied: dataclasses-json<0.7.0,>=0.6.7 in /usr/local/lib/python3.12/dist-packages (from langchain-community<0.4.0,>=0.3.0->langchain-experimental) (0.6.7)\n",
            "Requirement already satisfied: pydantic-settings<3.0.0,>=2.10.1 in /usr/local/lib/python3.12/dist-packages (from langchain-community<0.4.0,>=0.3.0->langchain-experimental) (2.11.0)\n",
            "Requirement already satisfied: langsmith<1.0.0,>=0.1.125 in /usr/local/lib/python3.12/dist-packages (from langchain-community<0.4.0,>=0.3.0->langchain-experimental) (0.4.31)\n",
            "Requirement already satisfied: httpx-sse<1.0.0,>=0.4.0 in /usr/local/lib/python3.12/dist-packages (from langchain-community<0.4.0,>=0.3.0->langchain-experimental) (0.4.1)\n",
            "Requirement already satisfied: numpy>=1.26.2 in /usr/local/lib/python3.12/dist-packages (from langchain-community<0.4.0,>=0.3.0->langchain-experimental) (2.0.2)\n",
            "Requirement already satisfied: jsonpatch<2.0.0,>=1.33.0 in /usr/local/lib/python3.12/dist-packages (from langchain-core<0.4.0,>=0.3.28->langchain-experimental) (1.33)\n",
            "Requirement already satisfied: typing-extensions<5.0.0,>=4.7.0 in /usr/local/lib/python3.12/dist-packages (from langchain-core<0.4.0,>=0.3.28->langchain-experimental) (4.15.0)\n",
            "Requirement already satisfied: packaging<26.0.0,>=23.2.0 in /usr/local/lib/python3.12/dist-packages (from langchain-core<0.4.0,>=0.3.28->langchain-experimental) (25.0)\n",
            "Requirement already satisfied: pydantic<3.0.0,>=2.7.4 in /usr/local/lib/python3.12/dist-packages (from langchain-core<0.4.0,>=0.3.28->langchain-experimental) (2.11.9)\n",
            "Requirement already satisfied: aiohappyeyeballs>=2.5.0 in /usr/local/lib/python3.12/dist-packages (from aiohttp<4.0.0,>=3.8.3->langchain-community<0.4.0,>=0.3.0->langchain-experimental) (2.6.1)\n",
            "Requirement already satisfied: aiosignal>=1.4.0 in /usr/local/lib/python3.12/dist-packages (from aiohttp<4.0.0,>=3.8.3->langchain-community<0.4.0,>=0.3.0->langchain-experimental) (1.4.0)\n",
            "Requirement already satisfied: attrs>=17.3.0 in /usr/local/lib/python3.12/dist-packages (from aiohttp<4.0.0,>=3.8.3->langchain-community<0.4.0,>=0.3.0->langchain-experimental) (25.3.0)\n",
            "Requirement already satisfied: frozenlist>=1.1.1 in /usr/local/lib/python3.12/dist-packages (from aiohttp<4.0.0,>=3.8.3->langchain-community<0.4.0,>=0.3.0->langchain-experimental) (1.7.0)\n",
            "Requirement already satisfied: multidict<7.0,>=4.5 in /usr/local/lib/python3.12/dist-packages (from aiohttp<4.0.0,>=3.8.3->langchain-community<0.4.0,>=0.3.0->langchain-experimental) (6.6.4)\n",
            "Requirement already satisfied: propcache>=0.2.0 in /usr/local/lib/python3.12/dist-packages (from aiohttp<4.0.0,>=3.8.3->langchain-community<0.4.0,>=0.3.0->langchain-experimental) (0.3.2)\n",
            "Requirement already satisfied: yarl<2.0,>=1.17.0 in /usr/local/lib/python3.12/dist-packages (from aiohttp<4.0.0,>=3.8.3->langchain-community<0.4.0,>=0.3.0->langchain-experimental) (1.20.1)\n",
            "Requirement already satisfied: marshmallow<4.0.0,>=3.18.0 in /usr/local/lib/python3.12/dist-packages (from dataclasses-json<0.7.0,>=0.6.7->langchain-community<0.4.0,>=0.3.0->langchain-experimental) (3.26.1)\n",
            "Requirement already satisfied: typing-inspect<1,>=0.4.0 in /usr/local/lib/python3.12/dist-packages (from dataclasses-json<0.7.0,>=0.6.7->langchain-community<0.4.0,>=0.3.0->langchain-experimental) (0.9.0)\n",
            "Requirement already satisfied: jsonpointer>=1.9 in /usr/local/lib/python3.12/dist-packages (from jsonpatch<2.0.0,>=1.33.0->langchain-core<0.4.0,>=0.3.28->langchain-experimental) (3.0.0)\n",
            "Requirement already satisfied: langchain-text-splitters<1.0.0,>=0.3.9 in /usr/local/lib/python3.12/dist-packages (from langchain<2.0.0,>=0.3.27->langchain-community<0.4.0,>=0.3.0->langchain-experimental) (0.3.11)\n",
            "Requirement already satisfied: httpx<1,>=0.23.0 in /usr/local/lib/python3.12/dist-packages (from langsmith<1.0.0,>=0.1.125->langchain-community<0.4.0,>=0.3.0->langchain-experimental) (0.28.1)\n",
            "Requirement already satisfied: orjson>=3.9.14 in /usr/local/lib/python3.12/dist-packages (from langsmith<1.0.0,>=0.1.125->langchain-community<0.4.0,>=0.3.0->langchain-experimental) (3.11.3)\n",
            "Requirement already satisfied: requests-toolbelt>=1.0.0 in /usr/local/lib/python3.12/dist-packages (from langsmith<1.0.0,>=0.1.125->langchain-community<0.4.0,>=0.3.0->langchain-experimental) (1.0.0)\n",
            "Requirement already satisfied: zstandard>=0.23.0 in /usr/local/lib/python3.12/dist-packages (from langsmith<1.0.0,>=0.1.125->langchain-community<0.4.0,>=0.3.0->langchain-experimental) (0.25.0)\n",
            "Requirement already satisfied: annotated-types>=0.6.0 in /usr/local/lib/python3.12/dist-packages (from pydantic<3.0.0,>=2.7.4->langchain-core<0.4.0,>=0.3.28->langchain-experimental) (0.7.0)\n",
            "Requirement already satisfied: pydantic-core==2.33.2 in /usr/local/lib/python3.12/dist-packages (from pydantic<3.0.0,>=2.7.4->langchain-core<0.4.0,>=0.3.28->langchain-experimental) (2.33.2)\n",
            "Requirement already satisfied: typing-inspection>=0.4.0 in /usr/local/lib/python3.12/dist-packages (from pydantic<3.0.0,>=2.7.4->langchain-core<0.4.0,>=0.3.28->langchain-experimental) (0.4.2)\n",
            "Requirement already satisfied: python-dotenv>=0.21.0 in /usr/local/lib/python3.12/dist-packages (from pydantic-settings<3.0.0,>=2.10.1->langchain-community<0.4.0,>=0.3.0->langchain-experimental) (1.1.1)\n",
            "Requirement already satisfied: charset_normalizer<4,>=2 in /usr/local/lib/python3.12/dist-packages (from requests<3.0.0,>=2.32.5->langchain-community<0.4.0,>=0.3.0->langchain-experimental) (3.4.3)\n",
            "Requirement already satisfied: idna<4,>=2.5 in /usr/local/lib/python3.12/dist-packages (from requests<3.0.0,>=2.32.5->langchain-community<0.4.0,>=0.3.0->langchain-experimental) (3.10)\n",
            "Requirement already satisfied: urllib3<3,>=1.21.1 in /usr/local/lib/python3.12/dist-packages (from requests<3.0.0,>=2.32.5->langchain-community<0.4.0,>=0.3.0->langchain-experimental) (2.5.0)\n",
            "Requirement already satisfied: certifi>=2017.4.17 in /usr/local/lib/python3.12/dist-packages (from requests<3.0.0,>=2.32.5->langchain-community<0.4.0,>=0.3.0->langchain-experimental) (2025.8.3)\n",
            "Requirement already satisfied: greenlet>=1 in /usr/local/lib/python3.12/dist-packages (from SQLAlchemy<3.0.0,>=1.4.0->langchain-community<0.4.0,>=0.3.0->langchain-experimental) (3.2.4)\n",
            "Requirement already satisfied: anyio in /usr/local/lib/python3.12/dist-packages (from httpx<1,>=0.23.0->langsmith<1.0.0,>=0.1.125->langchain-community<0.4.0,>=0.3.0->langchain-experimental) (4.11.0)\n",
            "Requirement already satisfied: httpcore==1.* in /usr/local/lib/python3.12/dist-packages (from httpx<1,>=0.23.0->langsmith<1.0.0,>=0.1.125->langchain-community<0.4.0,>=0.3.0->langchain-experimental) (1.0.9)\n",
            "Requirement already satisfied: h11>=0.16 in /usr/local/lib/python3.12/dist-packages (from httpcore==1.*->httpx<1,>=0.23.0->langsmith<1.0.0,>=0.1.125->langchain-community<0.4.0,>=0.3.0->langchain-experimental) (0.16.0)\n",
            "Requirement already satisfied: mypy-extensions>=0.3.0 in /usr/local/lib/python3.12/dist-packages (from typing-inspect<1,>=0.4.0->dataclasses-json<0.7.0,>=0.6.7->langchain-community<0.4.0,>=0.3.0->langchain-experimental) (1.1.0)\n",
            "Requirement already satisfied: sniffio>=1.1 in /usr/local/lib/python3.12/dist-packages (from anyio->httpx<1,>=0.23.0->langsmith<1.0.0,>=0.1.125->langchain-community<0.4.0,>=0.3.0->langchain-experimental) (1.3.1)\n"
          ]
        }
      ]
    },
    {
      "cell_type": "code",
      "source": [
        "%pip install langchain"
      ],
      "metadata": {
        "colab": {
          "base_uri": "https://localhost:8080/"
        },
        "id": "z1jxjbbN5a73",
        "outputId": "f6ccda36-8123-4619-ab94-1faba504dc2c"
      },
      "execution_count": null,
      "outputs": [
        {
          "output_type": "stream",
          "name": "stdout",
          "text": [
            "Requirement already satisfied: langchain in /usr/local/lib/python3.12/dist-packages (0.3.27)\n",
            "Requirement already satisfied: langchain-core<1.0.0,>=0.3.72 in /usr/local/lib/python3.12/dist-packages (from langchain) (0.3.77)\n",
            "Requirement already satisfied: langchain-text-splitters<1.0.0,>=0.3.9 in /usr/local/lib/python3.12/dist-packages (from langchain) (0.3.11)\n",
            "Requirement already satisfied: langsmith>=0.1.17 in /usr/local/lib/python3.12/dist-packages (from langchain) (0.4.31)\n",
            "Requirement already satisfied: pydantic<3.0.0,>=2.7.4 in /usr/local/lib/python3.12/dist-packages (from langchain) (2.11.9)\n",
            "Requirement already satisfied: SQLAlchemy<3,>=1.4 in /usr/local/lib/python3.12/dist-packages (from langchain) (2.0.43)\n",
            "Requirement already satisfied: requests<3,>=2 in /usr/local/lib/python3.12/dist-packages (from langchain) (2.32.5)\n",
            "Requirement already satisfied: PyYAML>=5.3 in /usr/local/lib/python3.12/dist-packages (from langchain) (6.0.3)\n",
            "Requirement already satisfied: tenacity!=8.4.0,<10.0.0,>=8.1.0 in /usr/local/lib/python3.12/dist-packages (from langchain-core<1.0.0,>=0.3.72->langchain) (8.5.0)\n",
            "Requirement already satisfied: jsonpatch<2.0.0,>=1.33.0 in /usr/local/lib/python3.12/dist-packages (from langchain-core<1.0.0,>=0.3.72->langchain) (1.33)\n",
            "Requirement already satisfied: typing-extensions<5.0.0,>=4.7.0 in /usr/local/lib/python3.12/dist-packages (from langchain-core<1.0.0,>=0.3.72->langchain) (4.15.0)\n",
            "Requirement already satisfied: packaging<26.0.0,>=23.2.0 in /usr/local/lib/python3.12/dist-packages (from langchain-core<1.0.0,>=0.3.72->langchain) (25.0)\n",
            "Requirement already satisfied: httpx<1,>=0.23.0 in /usr/local/lib/python3.12/dist-packages (from langsmith>=0.1.17->langchain) (0.28.1)\n",
            "Requirement already satisfied: orjson>=3.9.14 in /usr/local/lib/python3.12/dist-packages (from langsmith>=0.1.17->langchain) (3.11.3)\n",
            "Requirement already satisfied: requests-toolbelt>=1.0.0 in /usr/local/lib/python3.12/dist-packages (from langsmith>=0.1.17->langchain) (1.0.0)\n",
            "Requirement already satisfied: zstandard>=0.23.0 in /usr/local/lib/python3.12/dist-packages (from langsmith>=0.1.17->langchain) (0.25.0)\n",
            "Requirement already satisfied: annotated-types>=0.6.0 in /usr/local/lib/python3.12/dist-packages (from pydantic<3.0.0,>=2.7.4->langchain) (0.7.0)\n",
            "Requirement already satisfied: pydantic-core==2.33.2 in /usr/local/lib/python3.12/dist-packages (from pydantic<3.0.0,>=2.7.4->langchain) (2.33.2)\n",
            "Requirement already satisfied: typing-inspection>=0.4.0 in /usr/local/lib/python3.12/dist-packages (from pydantic<3.0.0,>=2.7.4->langchain) (0.4.2)\n",
            "Requirement already satisfied: charset_normalizer<4,>=2 in /usr/local/lib/python3.12/dist-packages (from requests<3,>=2->langchain) (3.4.3)\n",
            "Requirement already satisfied: idna<4,>=2.5 in /usr/local/lib/python3.12/dist-packages (from requests<3,>=2->langchain) (3.10)\n",
            "Requirement already satisfied: urllib3<3,>=1.21.1 in /usr/local/lib/python3.12/dist-packages (from requests<3,>=2->langchain) (2.5.0)\n",
            "Requirement already satisfied: certifi>=2017.4.17 in /usr/local/lib/python3.12/dist-packages (from requests<3,>=2->langchain) (2025.8.3)\n",
            "Requirement already satisfied: greenlet>=1 in /usr/local/lib/python3.12/dist-packages (from SQLAlchemy<3,>=1.4->langchain) (3.2.4)\n",
            "Requirement already satisfied: anyio in /usr/local/lib/python3.12/dist-packages (from httpx<1,>=0.23.0->langsmith>=0.1.17->langchain) (4.11.0)\n",
            "Requirement already satisfied: httpcore==1.* in /usr/local/lib/python3.12/dist-packages (from httpx<1,>=0.23.0->langsmith>=0.1.17->langchain) (1.0.9)\n",
            "Requirement already satisfied: h11>=0.16 in /usr/local/lib/python3.12/dist-packages (from httpcore==1.*->httpx<1,>=0.23.0->langsmith>=0.1.17->langchain) (0.16.0)\n",
            "Requirement already satisfied: jsonpointer>=1.9 in /usr/local/lib/python3.12/dist-packages (from jsonpatch<2.0.0,>=1.33.0->langchain-core<1.0.0,>=0.3.72->langchain) (3.0.0)\n",
            "Requirement already satisfied: sniffio>=1.1 in /usr/local/lib/python3.12/dist-packages (from anyio->httpx<1,>=0.23.0->langsmith>=0.1.17->langchain) (1.3.1)\n"
          ]
        }
      ]
    },
    {
      "cell_type": "code",
      "source": [
        "import pandas as pd\n",
        "from langchain_google_genai import ChatGoogleGenerativeAI\n",
        "from langchain_experimental.agents.agent_toolkits import create_pandas_dataframe_agent\n",
        "import os\n",
        "from google.colab import userdata # Colab utility to access secrets\n",
        "\n",
        "# --- 1. Load API Key Securely ---\n",
        "# This line loads the key named GEMINI_API_KEY from your Colab secrets\n",
        "api_key = userdata.get('GEMINI_API_KEY')\n",
        "\n",
        "if not api_key:\n",
        "    # Fallback/Debug: If the secret isn't set, try to get it from the environment (less secure)\n",
        "    api_key = os.environ.get('GEMINI_API_KEY')\n",
        "    if not api_key:\n",
        "        raise ValueError(\"GEMINI_API_KEY not found. Please set it in Colab Secrets or as an environment variable.\")\n",
        "\n",
        "# 1. Load the DataFrame\n",
        "# NOTE: Using 'sales_data.csv' as the file path, as 'sample_data/' is the default Colab path.\n",
        "file_path = 'sample_data/sales_data.csv'\n",
        "df = pd.read_csv(file_path)\n",
        "\n",
        "# 2. Define the LLM (LangChain wrapper for Gemini)\n",
        "# 🎯 FIX: Explicitly pass the API key to bypass the failed GCE credential lookup\n",
        "llm = ChatGoogleGenerativeAI(\n",
        "    model=\"gemini-2.5-flash\",\n",
        "    temperature=0.0,\n",
        "    google_api_key=api_key # Pass the retrieved key directly\n",
        ")\n",
        "\n",
        "# 3. Create the Agent\n",
        "agent = create_pandas_dataframe_agent(\n",
        "    llm=llm,\n",
        "    df=df,\n",
        "    verbose=True,\n",
        "    allow_dangerous_code=True\n",
        ")\n",
        "\n",
        "# 4. Run a Question\n",
        "new_question = \"List the total revenue broken down by category - Electronics.\"\n",
        "\n",
        "# The .invoke() method executes the full thought-process and tool-use loop\n",
        "response = agent.invoke({\"input\": new_question})\n",
        "\n",
        "# Print the final result\n",
        "print(\"-\" * 30)\n",
        "print(f\"✅ LangChain Agent Answer: {response['output']}\")"
      ],
      "metadata": {
        "colab": {
          "base_uri": "https://localhost:8080/"
        },
        "id": "cVz2HHvM4h8A",
        "outputId": "5dc466d8-fb84-4135-dd50-bb339bb2d48f"
      },
      "execution_count": null,
      "outputs": [
        {
          "output_type": "stream",
          "name": "stdout",
          "text": [
            "\n",
            "\n",
            "\u001b[1m> Entering new AgentExecutor chain...\u001b[0m\n",
            "\u001b[32;1m\u001b[1;3mAction: python_repl_ast\n",
            "Action Input: print(df[df['category'] == 'Electronics']['total_price'].sum())\u001b[0m\u001b[36;1m\u001b[1;3m1814.8600000000001\n",
            "\u001b[0m\u001b[32;1m\u001b[1;3mI now know the final answer\n",
            "Final Answer: The total revenue for the 'Electronics' category is 1814.86.\u001b[0m\n",
            "\n",
            "\u001b[1m> Finished chain.\u001b[0m\n",
            "------------------------------\n",
            "✅ LangChain Agent Answer: The total revenue for the 'Electronics' category is 1814.86.\n"
          ]
        }
      ]
    },
    {
      "cell_type": "markdown",
      "source": [
        "**Approach 1: Manual/Official SDK**\n",
        "\n",
        "This method gave you maximal control over the entire agent loop.\n",
        "\n",
        "Component\tWhat You Implemented\n",
        "\n",
        "The Tool\tThe custom execute_dataframe_code Python function. This function held the DataFrame (df) and executed the AI-generated script against it.\n",
        "\n",
        "Orchestration\tThe two-step API call process (request → tool call → execution → response) which required manual construction of the conversation history (types.Content objects).\n",
        "\n",
        "Authentication\tYou used the official genai.Client() and types objects.\n",
        "\n",
        "Key Takeaway\tYou learned exactly how Gemini's function calling works and how to structure complex multi-turn API conversations.\n",
        "\n",
        "\n",
        "**Approach 2: LangChain Inbuilt Agent**\n",
        "\n",
        "This method prioritized simplicity and speed, leveraging LangChain's abstractions.\n",
        "\n",
        "Component\tWhat LangChain Handled\n",
        "\n",
        "The Tool\tLangChain automatically created and managed the Python REPL tool to execute code against the df.\n",
        "\n",
        "Orchestration\tThe entire multi-step process was abstracted away by the agent.invoke() method.\n",
        "\n",
        "Authentication\tYou used the ChatGoogleGenerativeAI wrapper, which required careful handling of the google_api_key to avoid the Colab GCE authentication errors.\n",
        "\n",
        "Key Takeaway\tYou demonstrated rapid development capabilities, achieving the same result with significantly less custom code once the libraries were correctly configured.\n"
      ],
      "metadata": {
        "id": "YKDrd5XE7mk1"
      }
    },
    {
      "cell_type": "code",
      "source": [
        "# interactive AI Agent"
      ],
      "metadata": {
        "id": "Q9UglkBg7oYl"
      },
      "execution_count": null,
      "outputs": []
    },
    {
      "cell_type": "code",
      "source": [
        "import pandas as pd\n",
        "from langchain_google_genai import ChatGoogleGenerativeAI\n",
        "from langchain_experimental.agents.agent_toolkits import create_pandas_dataframe_agent\n",
        "import os\n",
        "from google.colab import userdata # Colab utility to access secrets\n",
        "\n",
        "# --- 1. SETUP: Load API Key, DataFrame, and LLM (Done only ONCE) ---\n",
        "\n",
        "print(\"Initializing Gemini Data Agent...\")\n",
        "\n",
        "try:\n",
        "    # Load API Key Securely\n",
        "    api_key = userdata.get('GEMINI_API_KEY')\n",
        "    if not api_key:\n",
        "        api_key = os.environ.get('GEMINI_API_KEY')\n",
        "        if not api_key:\n",
        "            raise ValueError(\"GEMINI_API_KEY not found. Please set it in Colab Secrets or as an environment variable.\")\n",
        "\n",
        "    # Load the DataFrame\n",
        "    file_path = 'sample_data/sales_data.csv'\n",
        "    df = pd.read_csv(file_path)\n",
        "\n",
        "    # Define the LLM\n",
        "    llm = ChatGoogleGenerativeAI(\n",
        "        model=\"gemini-2.5-flash\",\n",
        "        temperature=0.0,\n",
        "        google_api_key=api_key\n",
        "    )\n",
        "\n",
        "    # Create the Agent\n",
        "    agent = create_pandas_dataframe_agent(\n",
        "        llm=llm,\n",
        "        df=df,\n",
        "        verbose=False, # Set to False to keep the chat clean\n",
        "        allow_dangerous_code=True\n",
        "    )\n",
        "\n",
        "    print(\"✅ Agent ready. Type 'exit' or 'quit' to end the session.\")\n",
        "    print(\"-\" * 30)\n",
        "\n",
        "except Exception as e:\n",
        "    print(f\"❌ Initialization Failed: {e}\")\n",
        "    # Stop the script if setup fails\n",
        "    agent = None\n",
        "\n",
        "# --- 2. INTERACTIVE LOOP (Runs until you type 'exit') ---\n",
        "\n",
        "if agent:\n",
        "    while True:\n",
        "        # Get user input\n",
        "        user_input = input(\"❓ Your Data Question: \")\n",
        "\n",
        "        # Check for exit commands\n",
        "        if user_input.lower() in [\"quit\", \"exit\"]:\n",
        "            print(\"👋 Session ended. Goodbye!\")\n",
        "            break\n",
        "\n",
        "        try:\n",
        "            # The agent.invoke() call handles the entire question-answering process\n",
        "            response = agent.invoke({\"input\": user_input})\n",
        "\n",
        "            # Print the final answer\n",
        "            print(f\"\\n💡 Agent Answer: {response['output']}\\n\")\n",
        "            print(\"-\" * 30)\n",
        "\n",
        "        except Exception as e:\n",
        "            print(f\"\\n❌ An error occurred during analysis: {e}\\n\")\n",
        "            print(\"-\" * 30)"
      ],
      "metadata": {
        "colab": {
          "base_uri": "https://localhost:8080/"
        },
        "id": "Z6bXU62s_VrC",
        "outputId": "5dba6d30-818e-4a0d-bcfc-4712387be698"
      },
      "execution_count": null,
      "outputs": [
        {
          "output_type": "stream",
          "name": "stdout",
          "text": [
            "Initializing Gemini Data Agent...\n",
            "✅ Agent ready. Type 'exit' or 'quit' to end the session.\n",
            "------------------------------\n",
            "❓ Your Data Question: List the total revenue broken down by category - Electronics.\n",
            "\n",
            "💡 Agent Answer: The total revenue for the 'Electronics' category is 1814.86.\n",
            "\n",
            "------------------------------\n",
            "❓ Your Data Question: What is the average total price?\n",
            "\n",
            "💡 Agent Answer: The average total price is 164.027.\n",
            "\n",
            "------------------------------\n",
            "❓ Your Data Question: exit\n",
            "👋 Session ended. Goodbye!\n"
          ]
        }
      ]
    }
  ]
}